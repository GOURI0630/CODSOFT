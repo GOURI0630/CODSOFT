{
 "cells": [
  {
   "cell_type": "code",
   "execution_count": 2,
   "id": "1892c3a7-5ef3-4d9e-8cbc-a460b19946cb",
   "metadata": {},
   "outputs": [
    {
     "name": "stdout",
     "output_type": "stream",
     "text": [
      "\n",
      "--- CONTACT BOOK ---\n",
      "1. Add Contact\n",
      "2. View Contacts\n",
      "3. Search Contact\n",
      "4. Update Contact\n",
      "5. Delete Contact\n",
      "6. Exit\n"
     ]
    },
    {
     "name": "stdin",
     "output_type": "stream",
     "text": [
      "Enter your choice (1-6):  1\n",
      "Enter Name:  GOURI\n",
      "Enter Phone:  1546531658\n",
      "Enter Email:  NA\n",
      "Enter Address:  NA\n"
     ]
    },
    {
     "name": "stdout",
     "output_type": "stream",
     "text": [
      "Contact added successfully!\n",
      "\n",
      "--- CONTACT BOOK ---\n",
      "1. Add Contact\n",
      "2. View Contacts\n",
      "3. Search Contact\n",
      "4. Update Contact\n",
      "5. Delete Contact\n",
      "6. Exit\n"
     ]
    },
    {
     "name": "stdin",
     "output_type": "stream",
     "text": [
      "Enter your choice (1-6):  2\n"
     ]
    },
    {
     "name": "stdout",
     "output_type": "stream",
     "text": [
      "\n",
      "--- Contact List ---\n",
      "1. GOURI | 1546531658 | NA | NA\n",
      "\n",
      "--- CONTACT BOOK ---\n",
      "1. Add Contact\n",
      "2. View Contacts\n",
      "3. Search Contact\n",
      "4. Update Contact\n",
      "5. Delete Contact\n",
      "6. Exit\n"
     ]
    },
    {
     "name": "stdin",
     "output_type": "stream",
     "text": [
      "Enter your choice (1-6):  3\n",
      "Enter name or phone to search:  GOURI\n"
     ]
    },
    {
     "name": "stdout",
     "output_type": "stream",
     "text": [
      "\n",
      "Found: GOURI | 1546531658 | NA | NA\n",
      "\n",
      "--- CONTACT BOOK ---\n",
      "1. Add Contact\n",
      "2. View Contacts\n",
      "3. Search Contact\n",
      "4. Update Contact\n",
      "5. Delete Contact\n",
      "6. Exit\n"
     ]
    },
    {
     "name": "stdin",
     "output_type": "stream",
     "text": [
      "Enter your choice (1-6):  4\n"
     ]
    },
    {
     "name": "stdout",
     "output_type": "stream",
     "text": [
      "\n",
      "--- Contact List ---\n",
      "1. GOURI | 1546531658 | NA | NA\n"
     ]
    },
    {
     "name": "stdin",
     "output_type": "stream",
     "text": [
      "Enter contact number to update:  51584301354\n"
     ]
    },
    {
     "name": "stdout",
     "output_type": "stream",
     "text": [
      "Invalid contact number.\n",
      "\n",
      "--- CONTACT BOOK ---\n",
      "1. Add Contact\n",
      "2. View Contacts\n",
      "3. Search Contact\n",
      "4. Update Contact\n",
      "5. Delete Contact\n",
      "6. Exit\n"
     ]
    },
    {
     "name": "stdin",
     "output_type": "stream",
     "text": [
      "Enter your choice (1-6):  5\n"
     ]
    },
    {
     "name": "stdout",
     "output_type": "stream",
     "text": [
      "\n",
      "--- Contact List ---\n",
      "1. GOURI | 1546531658 | NA | NA\n"
     ]
    },
    {
     "name": "stdin",
     "output_type": "stream",
     "text": [
      "Enter contact number to delete:  GOURI\n"
     ]
    },
    {
     "name": "stdout",
     "output_type": "stream",
     "text": [
      "Invalid input!\n",
      "\n",
      "--- CONTACT BOOK ---\n",
      "1. Add Contact\n",
      "2. View Contacts\n",
      "3. Search Contact\n",
      "4. Update Contact\n",
      "5. Delete Contact\n",
      "6. Exit\n"
     ]
    },
    {
     "name": "stdin",
     "output_type": "stream",
     "text": [
      "Enter your choice (1-6):  6\n"
     ]
    },
    {
     "name": "stdout",
     "output_type": "stream",
     "text": [
      "Exiting Contact Book. Bye!\n"
     ]
    }
   ],
   "source": [
    "# Contact Book CLI\n",
    "\n",
    "contacts = []\n",
    "\n",
    "def add_contact():\n",
    "    name = input(\"Enter Name: \")\n",
    "    phone = input(\"Enter Phone: \")\n",
    "    email = input(\"Enter Email: \")\n",
    "    address = input(\"Enter Address: \")\n",
    "    contacts.append({\n",
    "        \"name\": name,\n",
    "        \"phone\": phone,\n",
    "        \"email\": email,\n",
    "        \"address\": address\n",
    "    })\n",
    "    print(\"Contact added successfully!\")\n",
    "\n",
    "def view_contacts():\n",
    "    if not contacts:\n",
    "        print(\"No contacts available.\")\n",
    "    else:\n",
    "        print(\"\\n--- Contact List ---\")\n",
    "        for i, contact in enumerate(contacts, start=1):\n",
    "            print(f\"{i}. {contact['name']} | {contact['phone']} | {contact['email']} | {contact['address']}\")\n",
    "\n",
    "def search_contact():\n",
    "    keyword = input(\"Enter name or phone to search: \")\n",
    "    found = False\n",
    "    for contact in contacts:\n",
    "        if keyword.lower() in contact[\"name\"].lower() or keyword in contact[\"phone\"]:\n",
    "            print(f\"\\nFound: {contact['name']} | {contact['phone']} | {contact['email']} | {contact['address']}\")\n",
    "            found = True\n",
    "    if not found:\n",
    "        print(\"No matching contact found.\")\n",
    "\n",
    "def update_contact():\n",
    "    view_contacts()\n",
    "    try:\n",
    "        index = int(input(\"Enter contact number to update: \")) - 1\n",
    "        if 0 <= index < len(contacts):\n",
    "            contacts[index][\"name\"] = input(\"Enter New Name: \")\n",
    "            contacts[index][\"phone\"] = input(\"Enter New Phone: \")\n",
    "            contacts[index][\"email\"] = input(\"Enter New Email: \")\n",
    "            contacts[index][\"address\"] = input(\"Enter New Address: \")\n",
    "            print(\"Contact updated successfully!\")\n",
    "        else:\n",
    "            print(\"Invalid contact number.\")\n",
    "    except ValueError:\n",
    "        print(\"Invalid input!\")\n",
    "\n",
    "def delete_contact():\n",
    "    view_contacts()\n",
    "    try:\n",
    "        index = int(input(\"Enter contact number to delete: \")) - 1\n",
    "        if 0 <= index < len(contacts):\n",
    "            removed = contacts.pop(index)\n",
    "            print(f\"Contact '{removed['name']}' deleted successfully!\")\n",
    "        else:\n",
    "            print(\"Invalid contact number.\")  \n",
    "    except ValueError:\n",
    "        print(\"Invalid input!\")\n",
    "\n",
    "# Main Menu\n",
    "while True:\n",
    "    print(\"\\n--- CONTACT BOOK ---\")\n",
    "    print(\"1. Add Contact\")\n",
    "    print(\"2. View Contacts\")\n",
    "    print(\"3. Search Contact\")\n",
    "    print(\"4. Update Contact\")\n",
    "    print(\"5. Delete Contact\")\n",
    "    print(\"6. Exit\")\n",
    "\n",
    "    choice = input(\"Enter your choice (1-6): \")\n",
    "\n",
    "    if choice == \"1\":\n",
    "        add_contact()\n",
    "    elif choice == \"2\":\n",
    "        view_contacts()\n",
    "    elif choice == \"3\":\n",
    "        search_contact()\n",
    "    elif choice == \"4\":\n",
    "        update_contact()\n",
    "    elif choice == \"5\":\n",
    "        delete_contact()\n",
    "    elif choice == \"6\":\n",
    "        print(\"Exiting Contact Book. Bye!\")\n",
    "        break\n",
    "    else:\n",
    "        print(\"Invalid choice. Please try again.\")\n"
   ]
  },
  {
   "cell_type": "code",
   "execution_count": null,
   "id": "66113092-774b-47c5-99d1-d69a4842e126",
   "metadata": {},
   "outputs": [],
   "source": [
    "6"
   ]
  },
  {
   "cell_type": "code",
   "execution_count": null,
   "id": "53bb1e7d-6458-4283-b070-32e933470f03",
   "metadata": {},
   "outputs": [],
   "source": []
  }
 ],
 "metadata": {
  "kernelspec": {
   "display_name": "Python 3 (ipykernel)",
   "language": "python",
   "name": "python3"
  },
  "language_info": {
   "codemirror_mode": {
    "name": "ipython",
    "version": 3
   },
   "file_extension": ".py",
   "mimetype": "text/x-python",
   "name": "python",
   "nbconvert_exporter": "python",
   "pygments_lexer": "ipython3",
   "version": "3.12.7"
  }
 },
 "nbformat": 4,
 "nbformat_minor": 5
}
