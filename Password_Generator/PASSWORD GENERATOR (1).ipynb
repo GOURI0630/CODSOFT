{
 "cells": [
  {
   "cell_type": "code",
   "execution_count": 9,
   "id": "332039d2-d601-48db-b2c8-35bcd845a306",
   "metadata": {},
   "outputs": [
    {
     "name": "stdout",
     "output_type": "stream",
     "text": [
      "---- PASSWORD GENERATOR ----\n"
     ]
    },
    {
     "name": "stdin",
     "output_type": "stream",
     "text": [
      "Enter password length:  12\n"
     ]
    },
    {
     "name": "stdout",
     "output_type": "stream",
     "text": [
      "Complexity Levels:\n",
      "1. Only lowercase\n",
      "2. Lowercase + Uppercase\n",
      "3. Letters + Digits\n",
      "4. Letters + Digits + Special Characters\n"
     ]
    },
    {
     "name": "stdin",
     "output_type": "stream",
     "text": [
      "Choose complexity level (1-4):  4\n"
     ]
    },
    {
     "name": "stdout",
     "output_type": "stream",
     "text": [
      "\n",
      "Generated Password: Vwe_\"7yj&Dt;\n"
     ]
    }
   ],
   "source": [
    "import random\n",
    "import string\n",
    "\n",
    "print(\"---- PASSWORD GENERATOR ----\")\n",
    "# Input from users\n",
    "length = int(input(\"Enter password length: \"))\n",
    "print(\"Complexity Levels:\")\n",
    "print(\"1. Only lowercase\")\n",
    "print(\"2. Lowercase + Uppercase\")\n",
    "print(\"3. Letters + Digits\")\n",
    "print(\"4. Letters + Digits + Special Characters\")\n",
    "\n",
    "choice = int(input(\"Choose complexity level (1-4): \"))\n",
    "\n",
    "# Different character sets\n",
    "lower = string.ascii_lowercase\n",
    "upper = string.ascii_uppercase\n",
    "digits = string.digits\n",
    "special = string.punctuation\n",
    "\n",
    "characters = \"\"\n",
    "\n",
    "if choice == 1:\n",
    "    characters = lower\n",
    "elif choice == 2:\n",
    "    characters = lower + upper\n",
    "elif choice == 3:\n",
    "    characters = lower + upper + digits\n",
    "elif choice == 4:\n",
    "    characters = lower + upper + digits + special\n",
    "else:\n",
    "    print(\"Invalid choice, defaulting to lowercase only.\")\n",
    "    characters = lower\n",
    "\n",
    "# Random password generate\n",
    "password = \"\".join(random.choice(characters) for _ in range(length))\n",
    "\n",
    "print(\"\\nGenerated Password:\", password)"
   ]
  },
  {
   "cell_type": "code",
   "execution_count": null,
   "id": "0f80b7a1-a829-4974-a98d-85d2d2c97a84",
   "metadata": {},
   "outputs": [],
   "source": []
  },
  {
   "cell_type": "code",
   "execution_count": 6,
   "id": "db501741-374e-4350-a48a-61c1dfd4b3ca",
   "metadata": {},
   "outputs": [
    {
     "name": "stdout",
     "output_type": "stream",
     "text": [
      "---- PASSWORD GENERATOR ----\n"
     ]
    },
    {
     "name": "stdin",
     "output_type": "stream",
     "text": [
      "Enter password length:  6\n"
     ]
    },
    {
     "name": "stdout",
     "output_type": "stream",
     "text": [
      "Complexity Levels:\n",
      "1. Only lowercase\n",
      "2. Lowercase + Uppercase\n",
      "3. Letters + Digits\n",
      "4. Letters + Digits + Special Characters\n"
     ]
    },
    {
     "name": "stdin",
     "output_type": "stream",
     "text": [
      "Choose complexity level (1-4):  4\n"
     ]
    },
    {
     "name": "stdout",
     "output_type": "stream",
     "text": [
      "\n",
      "Generated Password: HlY9o/\n"
     ]
    }
   ],
   "source": [
    "import random\n",
    "import string\n",
    "\n",
    "print(\"---- PASSWORD GENERATOR ----\")\n",
    "\n",
    "# User se input\n",
    "length = int(input(\"Enter password length: \"))\n",
    "print(\"Complexity Levels:\")\n",
    "print(\"1. Only lowercase\")\n",
    "print(\"2. Lowercase + Uppercase\")\n",
    "print(\"3. Letters + Digits\")\n",
    "print(\"4. Letters + Digits + Special Characters\")\n",
    "\n",
    "choice = int(input(\"Choose complexity level (1-4): \"))\n",
    "\n",
    "# Different character sets\n",
    "lower = string.ascii_lowercase\n",
    "upper = string.ascii_uppercase\n",
    "digits = string.digits\n",
    "special = string.punctuation\n",
    "\n",
    "characters = \"\"\n",
    "\n",
    "if choice == 1:\n",
    "    characters = lower\n",
    "elif choice == 2:\n",
    "    characters = lower + upper\n",
    "elif choice == 3:\n",
    "    characters = lower + upper + digits\n",
    "elif choice == 4:\n",
    "    characters = lower + upper + digits + special\n",
    "else:\n",
    "    print(\"Invalid choice, defaulting to lowercase only.\")\n",
    "    characters = lower\n",
    "\n",
    "# Random password generate\n",
    "password = \"\".join(random.choice(characters) for _ in range(length))\n",
    "\n",
    "print(\"\\nGenerated Password:\", password)\n"
   ]
  },
  {
   "cell_type": "code",
   "execution_count": null,
   "id": "3251c407-6e86-4bea-a61c-e056f6ba07c1",
   "metadata": {},
   "outputs": [],
   "source": []
  },
  {
   "cell_type": "code",
   "execution_count": null,
   "id": "0c045847-ac4b-4236-8e12-9dcff76d676f",
   "metadata": {},
   "outputs": [],
   "source": []
  }
 ],
 "metadata": {
  "kernelspec": {
   "display_name": "Python 3 (ipykernel)",
   "language": "python",
   "name": "python3"
  },
  "language_info": {
   "codemirror_mode": {
    "name": "ipython",
    "version": 3
   },
   "file_extension": ".py",
   "mimetype": "text/x-python",
   "name": "python",
   "nbconvert_exporter": "python",
   "pygments_lexer": "ipython3",
   "version": "3.12.7"
  }
 },
 "nbformat": 4,
 "nbformat_minor": 5
}
